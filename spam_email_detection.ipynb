import pandas as pd
 import numpy as np
 import matplotlib.pyplot as plt
 import seaborn as sns
 from sklearn.model_selection import train_test_split
 from sklearn.feature_extraction.text import CountVectorizer
 from sklearn.naive_bayes import MultinomialNB
 from sklearn.metrics import classification_report, confusion_matrix, accuracy_sc
 url = "https://raw.githubusercontent.com/justmarkham/pycon-2016-tutorial/master/
 df = pd.read_csv(url, sep='\t', header=None, names=['label', 'message'])
 print(df.head())
 print("\nLabel Counts:\n", df['label'].value_counts())
 df['label_num'] = df.label.map({'ham': 0, 'spam': 1})
 X = df['message']
 y = df['label_num']
 X_train, X_test, y_train, y_test = train_test_split(X, y, test_size=0.25, random
 vectorizer = CountVectorizer()
 X_train_vec = vectorizer.fit_transform(X_train)
 X_test_vec = vectorizer.transform(X_test)
 model = MultinomialNB()
 model.fit(X_train_vec, y_train)
 y_pred = model.predict(X_test_vec)
 print("Accuracy Score:", accuracy_score(y_test, y_pred))
 print("\nClassification Report:\n", classification_report(y_test, y_pred))
 print("\nConfusion Matrix:\n", confusion_matrix(y_test, y_pred))
 conf_matrix = confusion_matrix(y_test, y_pred)
 sns.heatmap(conf_matrix, annot=True, fmt='d', cmap='Blues', xticklabels=['Ham', 
plt.xlabel('Predicted')
 plt.ylabel('Actual')
 plt.title('Confusion Matrix')
 plt.show()
